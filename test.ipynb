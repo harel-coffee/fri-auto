{
 "cells": [
  {
   "cell_type": "code",
   "execution_count": 1,
   "metadata": {
    "ExecuteTime": {
     "end_time": "2019-09-12T15:31:23.989008Z",
     "start_time": "2019-09-12T15:31:23.444220Z"
    }
   },
   "outputs": [],
   "source": [
    "import numpy as np\n",
    "import pytest\n",
    "from sklearn.utils import check_random_state\n",
    "\n",
    "import fri\n",
    "from fri import FRI, genLupiData,genClassificationData\n",
    "from sklearn.preprocessing import StandardScaler"
   ]
  },
  {
   "cell_type": "code",
   "execution_count": 10,
   "metadata": {
    "ExecuteTime": {
     "end_time": "2019-09-12T15:38:21.884428Z",
     "start_time": "2019-09-12T15:37:58.129899Z"
    },
    "pycharm": {
     "is_executing": false
    }
   },
   "outputs": [
    {
     "name": "stdout",
     "output_type": "stream",
     "text": [
      "FRI(n_jobs=-1, n_param_search=100, n_probe_features=70, normalize=True,\n",
      "    problemName=None, random_state=RandomState(MT19937) at 0x7FA6520A1D10,\n",
      "    slack_loss=None, slack_regularization=None, verbose=1)\n",
      "Fitting 3 folds for each of 100 candidates, totalling 300 fits\n"
     ]
    },
    {
     "name": "stderr",
     "output_type": "stream",
     "text": [
      "[Parallel(n_jobs=-1)]: Using backend LokyBackend with 8 concurrent workers.\n",
      "[Parallel(n_jobs=-1)]: Done  88 tasks      | elapsed:    1.0s\n",
      "[Parallel(n_jobs=-1)]: Done 300 out of 300 | elapsed:    2.7s finished\n",
      "[Parallel(n_jobs=-1)]: Using backend LokyBackend with 8 concurrent workers.\n"
     ]
    },
    {
     "name": "stdout",
     "output_type": "stream",
     "text": [
      "******************** Best found baseline model ********************\n",
      "LUPI_OrdinalRegression_SVM(C=0.7989787452609657,\n",
      "                           scaling_lupi_loss=95.98561523602153,\n",
      "                           scaling_lupi_w=2.4452985412119613e-15)\n",
      "score:  0.9696969696969697\n",
      "'loss: 13.824123199453487'\n",
      "'w_l1: 13.918639654974235'\n",
      "'w_priv_l1: 2.3460006785434133e-13'\n",
      "'priv_l1_1: 1.2712204328048568e-13'\n",
      "'priv_l1_2: 1.0747802457385567e-13'\n",
      "'w: shape (5,)'\n",
      "'b_s: shape (2,)'\n",
      "'w_priv: shape (5, 2)'\n",
      "'d_priv: shape (2,)'\n",
      "'lupi_features: 5'\n",
      "'bin_boundaries: 2'\n",
      "******************************\n"
     ]
    },
    {
     "name": "stderr",
     "output_type": "stream",
     "text": [
      "[Parallel(n_jobs=-1)]: Done  15 out of  15 | elapsed:    0.5s finished\n",
      "[Parallel(n_jobs=-1)]: Using backend LokyBackend with 8 concurrent workers.\n",
      "[Parallel(n_jobs=-1)]: Done  84 tasks      | elapsed:    2.7s\n",
      "[Parallel(n_jobs=-1)]: Done 140 out of 140 | elapsed:    4.2s finished\n",
      "[Parallel(n_jobs=-1)]: Using backend LokyBackend with 8 concurrent workers.\n",
      "[Parallel(n_jobs=-1)]: Done  70 out of  70 | elapsed:    2.2s finished\n",
      "[Parallel(n_jobs=-1)]: Using backend LokyBackend with 8 concurrent workers.\n",
      "[Parallel(n_jobs=-1)]: Done  30 out of  30 | elapsed:    0.9s finished\n",
      "[Parallel(n_jobs=-1)]: Using backend LokyBackend with 8 concurrent workers.\n",
      "[Parallel(n_jobs=-1)]: Done  84 tasks      | elapsed:    2.6s\n",
      "[Parallel(n_jobs=-1)]: Done 280 out of 280 | elapsed:    8.7s finished\n",
      "[Parallel(n_jobs=-1)]: Using backend LokyBackend with 8 concurrent workers.\n",
      "[Parallel(n_jobs=-1)]: Done  84 tasks      | elapsed:    2.8s\n"
     ]
    },
    {
     "name": "stdout",
     "output_type": "stream",
     "text": [
      "FS threshold: 0.0-0.0, Mean:0.0, Std:0, n_probes 62\n",
      "FS threshold: 0.045976033143245915-0.19840424689154706, Mean:0.12219014001739649, Std:0.018954065025272693, n_probes 56\n",
      "FS threshold: 0.0-0.0, Mean:0.0, Std:0, n_probes 70\n",
      "FS threshold: 0.003752735476732078-0.008536683911858784, Mean:0.006144709694295431, Std:0.0006045240073248584, n_probes 70\n",
      "[[0.15460491 1.        ]\n",
      " [0.         0.13090686]\n",
      " [0.         0.15091191]\n",
      " [0.         0.14182325]\n",
      " [0.         0.13536155]\n",
      " [0.         0.01231404]\n",
      " [0.         0.00558709]\n",
      " [0.         0.005876  ]\n",
      " [0.         0.00837994]\n",
      " [0.         0.00719018]]\n",
      "{'C': 0.7989787452609657, 'scaling_lupi_loss': 95.98561523602153, 'scaling_lupi_w': 2.4452985412119613e-15}\n",
      "############## Relevance bounds ##############\n",
      "feature: [LB -- UB], relevance class\n",
      "      0: [0.2 -- 1.0], Strong relevant\n",
      "      1: [0.0 -- 0.1], Irrelevant\n",
      "      2: [0.0 -- 0.2], Irrelevant\n",
      "      3: [0.0 -- 0.1], Irrelevant\n",
      "      4: [0.0 -- 0.1], Irrelevant\n",
      "########## LUPI Relevance bounds\n",
      "      5: [0.0 -- 0.0], Weak relevant\n",
      "      6: [0.0 -- 0.0], Irrelevant\n",
      "      7: [0.0 -- 0.0], Irrelevant\n",
      "      8: [0.0 -- 0.0], Irrelevant\n",
      "      9: [0.0 -- 0.0], Irrelevant\n",
      "\n"
     ]
    },
    {
     "name": "stderr",
     "output_type": "stream",
     "text": [
      "[Parallel(n_jobs=-1)]: Done 140 out of 140 | elapsed:    4.2s finished\n"
     ]
    }
   ],
   "source": [
    "strong=1\n",
    "n_weak=0\n",
    "n_samples = 100\n",
    "problem=fri.ProblemName.LUPI_ORDREGRESSION\n",
    "randomstate = 1\n",
    "\n",
    "model = FRI(\n",
    "    problem,\n",
    "    random_state=randomstate,\n",
    "    verbose=1,\n",
    "    slack_regularization=0.5,\n",
    "    slack_loss=0.5,\n",
    "    n_param_search=100,\n",
    "    n_probe_features=70,\n",
    "    n_jobs=-1,\n",
    ")\n",
    "print(model)\n",
    "\n",
    "data = genLupiData(\n",
    "    problem,\n",
    "    n_strel=strong,\n",
    "    n_weakrel=n_weak,\n",
    "    n_samples=n_samples,\n",
    "    n_irrel=2,\n",
    "    # label_noise=0.1,\n",
    "    n_repeated=0,\n",
    "    noise=0.1,\n",
    "    random_state=randomstate,\n",
    ")\n",
    "\n",
    "X, X_priv, y = data\n",
    "\n",
    "n_priv_features = X_priv.shape[1]\n",
    "X = StandardScaler().fit(X).transform(X)\n",
    "X_priv = StandardScaler().fit(X_priv).transform(X_priv)\n",
    "combined = np.hstack([X, X_priv])\n",
    "\n",
    "model.fit(combined, y, lupi_features=n_priv_features)\n",
    "\n",
    "# Check the interval output\n",
    "interval = model.interval_\n",
    "print(interval)\n",
    "print(model.optim_model_.hyperparam)\n",
    "print(model.print_interval_with_class())"
   ]
  },
  {
   "cell_type": "code",
   "execution_count": null,
   "metadata": {
    "ExecuteTime": {
     "end_time": "2019-09-12T15:19:41.690550Z",
     "start_time": "2019-09-12T15:19:38.956Z"
    }
   },
   "outputs": [],
   "source": [
    "model = FRI(\n",
    "    fri.ProblemName.CLASSIFICATION,\n",
    "    random_state=randomstate,\n",
    "    verbose=1,\n",
    "    slack_regularization=0.1,\n",
    "    slack_loss=0.1,\n",
    "    n_param_search=100,\n",
    "    n_probe_features=70,\n",
    "    n_jobs=-1,\n",
    ")"
   ]
  },
  {
   "cell_type": "code",
   "execution_count": 15,
   "metadata": {
    "ExecuteTime": {
     "end_time": "2019-09-12T13:47:18.904155Z",
     "start_time": "2019-09-12T13:47:18.892377Z"
    }
   },
   "outputs": [],
   "source": [
    "X,y = genClassificationData(n_strel=strong,\n",
    "    n_redundant=2,\n",
    "    n_samples=n_samples,\n",
    "    # label_noise=0.1,\n",
    "    n_repeated=0,\n",
    "    random_state=randomstate,\n",
    "                            n_features=3)"
   ]
  },
  {
   "cell_type": "code",
   "execution_count": 16,
   "metadata": {
    "ExecuteTime": {
     "end_time": "2019-09-12T13:47:19.277315Z",
     "start_time": "2019-09-12T13:47:19.271410Z"
    }
   },
   "outputs": [],
   "source": [
    "from sklearn.preprocessing import scale"
   ]
  },
  {
   "cell_type": "code",
   "execution_count": 17,
   "metadata": {
    "ExecuteTime": {
     "end_time": "2019-09-12T13:47:19.535425Z",
     "start_time": "2019-09-12T13:47:19.522937Z"
    }
   },
   "outputs": [],
   "source": [
    "X = scale(X)"
   ]
  },
  {
   "cell_type": "code",
   "execution_count": 18,
   "metadata": {
    "ExecuteTime": {
     "end_time": "2019-09-12T13:47:23.001993Z",
     "start_time": "2019-09-12T13:47:19.783476Z"
    }
   },
   "outputs": [
    {
     "name": "stdout",
     "output_type": "stream",
     "text": [
      "******************** Best found baseline model ********************\n",
      "Classification_SVM(C=52.659351163341064)\n",
      "score:  1.0\n",
      "'loss: 7.822439986220748e-09'\n",
      "'w_l1: 74.40533011043675'\n",
      "'w: shape (3,)'\n",
      "'b: shape ()'\n",
      "'slack: shape (100,)'\n",
      "******************************\n",
      "FS threshold: -3.194743337031142e-10-8.97395996446791e-10, Mean:2.889608313718384e-10, Std:1.4984257514691727e-10, n_probes 50\n",
      "FS threshold: -0.03943089467206502-0.11832319932582373, Mean:0.039446152326879355, Std:0.019227658312990933, n_probes 45\n"
     ]
    },
    {
     "data": {
      "text/plain": [
       "FRI(n_jobs=-1, n_param_search=100, n_probe_features=70, normalize=True,\n",
       "    problemName=None, random_state=RandomState(MT19937) at 0x7F807E108270,\n",
       "    slack_loss=None, slack_regularization=None, verbose=1)"
      ]
     },
     "execution_count": 18,
     "metadata": {},
     "output_type": "execute_result"
    }
   ],
   "source": [
    "model.fit(X,y)"
   ]
  },
  {
   "cell_type": "code",
   "execution_count": 19,
   "metadata": {
    "ExecuteTime": {
     "end_time": "2019-09-12T13:47:23.708578Z",
     "start_time": "2019-09-12T13:47:23.700458Z"
    }
   },
   "outputs": [
    {
     "name": "stdout",
     "output_type": "stream",
     "text": [
      "############## Relevance bounds ##############\n",
      "feature: [LB -- UB], relevance class\n",
      "      0: [0.5 -- 0.5], Strong relevant\n",
      "      1: [0.0 -- 0.6], Weak relevant\n",
      "      2: [0.0 -- 0.6], Weak relevant\n",
      "\n"
     ]
    }
   ],
   "source": [
    "print(model.print_interval_with_class())"
   ]
  },
  {
   "cell_type": "code",
   "execution_count": 6,
   "metadata": {
    "ExecuteTime": {
     "end_time": "2019-09-12T13:09:06.772844Z",
     "start_time": "2019-09-12T13:09:06.769897Z"
    },
    "pycharm": {
     "name": "#%%\n"
    }
   },
   "outputs": [
    {
     "data": {
      "text/plain": [
       "{'C': 0.3155886203384804}"
      ]
     },
     "execution_count": 6,
     "metadata": {},
     "output_type": "execute_result"
    }
   ],
   "source": [
    "\n",
    "model.optim_model_.hyperparam"
   ]
  },
  {
   "cell_type": "code",
   "execution_count": 3,
   "metadata": {
    "ExecuteTime": {
     "end_time": "2019-09-12T14:51:34.644209Z",
     "start_time": "2019-09-12T14:51:34.622034Z"
    }
   },
   "outputs": [
    {
     "data": {
      "text/plain": [
       "array([[ 1.        , -0.05382741,  0.03018863,  0.03396965, -0.08043575,\n",
       "        -0.10718702,  0.82188834, -0.07922457,  0.00508312, -0.00869104,\n",
       "         0.06809244,  0.0331051 ],\n",
       "       [-0.05382741,  1.        , -0.02245175, -0.13504235, -0.0457877 ,\n",
       "        -0.04023509, -0.0521719 ,  0.84505707, -0.04262545, -0.04557759,\n",
       "         0.04873933,  0.06026269],\n",
       "       [ 0.03018863, -0.02245175,  1.        , -0.03129177, -0.02083705,\n",
       "        -0.06284878, -0.04375101,  0.02313208,  0.80500225, -0.02200438,\n",
       "        -0.04439958,  0.00715072],\n",
       "       [ 0.03396965, -0.13504235, -0.03129177,  1.        ,  0.04598209,\n",
       "         0.02370238,  0.06716869, -0.08744686, -0.03219351,  0.84437989,\n",
       "        -0.06710573,  0.00957178],\n",
       "       [-0.08043575, -0.0457877 , -0.02083705,  0.04598209,  1.        ,\n",
       "         0.04906987, -0.04558122, -0.01861815, -0.06236217, -0.00525317,\n",
       "         0.04322443, -0.03209532],\n",
       "       [-0.10718702, -0.04023509, -0.06284878,  0.02370238,  0.04906987,\n",
       "         1.        , -0.07532943, -0.00410426,  0.00966068,  0.00441146,\n",
       "        -0.00867736, -0.05365115],\n",
       "       [ 0.82188834, -0.0521719 , -0.04375101,  0.06716869, -0.04558122,\n",
       "        -0.07532943,  1.        , -0.09675258, -0.04086022,  0.02014208,\n",
       "         0.10293671,  0.03678488],\n",
       "       [-0.07922457,  0.84505707,  0.02313208, -0.08744686, -0.01861815,\n",
       "        -0.00410426, -0.09675258,  1.        ,  0.02790349, -0.02891641,\n",
       "         0.02726939,  0.06559315],\n",
       "       [ 0.00508312, -0.04262545,  0.80500225, -0.03219351, -0.06236217,\n",
       "         0.00966068, -0.04086022,  0.02790349,  1.        , -0.03661788,\n",
       "        -0.071408  ,  0.00863911],\n",
       "       [-0.00869104, -0.04557759, -0.02200438,  0.84437989, -0.00525317,\n",
       "         0.00441146,  0.02014208, -0.02891641, -0.03661788,  1.        ,\n",
       "        -0.0851781 ,  0.00991916],\n",
       "       [ 0.06809244,  0.04873933, -0.04439958, -0.06710573,  0.04322443,\n",
       "        -0.00867736,  0.10293671,  0.02726939, -0.071408  , -0.0851781 ,\n",
       "         1.        ,  0.00677204],\n",
       "       [ 0.0331051 ,  0.06026269,  0.00715072,  0.00957178, -0.03209532,\n",
       "        -0.05365115,  0.03678488,  0.06559315,  0.00863911,  0.00991916,\n",
       "         0.00677204,  1.        ]])"
      ]
     },
     "execution_count": 3,
     "metadata": {},
     "output_type": "execute_result"
    }
   ],
   "source": [
    "np.corrcoef(X,X_priv,rowvar=False)"
   ]
  },
  {
   "cell_type": "code",
   "execution_count": null,
   "metadata": {},
   "outputs": [],
   "source": []
  }
 ],
 "metadata": {
  "kernelspec": {
   "display_name": "Python 3",
   "language": "python",
   "name": "python3"
  },
  "language_info": {
   "codemirror_mode": {
    "name": "ipython",
    "version": 3
   },
   "file_extension": ".py",
   "mimetype": "text/x-python",
   "name": "python",
   "nbconvert_exporter": "python",
   "pygments_lexer": "ipython3",
   "version": "3.7.4"
  },
  "pycharm": {
   "stem_cell": {
    "cell_type": "raw",
    "metadata": {
     "collapsed": false
    },
    "source": []
   }
  }
 },
 "nbformat": 4,
 "nbformat_minor": 1
}
