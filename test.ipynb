{
 "cells": [
  {
   "cell_type": "code",
   "execution_count": 23,
   "metadata": {
    "collapsed": true,
    "pycharm": {
     "is_executing": false
    }
   },
   "outputs": [
    {
     "name": "stdout",
     "text": [
      "FRI(n_jobs=8, n_param_search=100, n_probe_features=70, normalize=True,\n    problemName=None, random_state=RandomState(MT19937) at 0x7F7E6CDFD5A0,\n    slack_loss=None, slack_regularization=None, verbose=1)\n"
     ],
     "output_type": "stream"
    }
   ],
   "source": [
    "import numpy as np\n",
    "import pytest\n",
    "from sklearn.preprocessing import StandardScaler\n",
    "from sklearn.utils import check_random_state\n",
    "\n",
    "import fri\n",
    "from fri import FRI, genLupiData\n",
    "\n",
    "n_samples = 100\n",
    "problem = fri.ProblemName.LUPI_CLASSIFICATION\n",
    "randomstate = 1234\n",
    "n_weak = 0\n",
    "\n",
    "model = FRI(\n",
    "    problem,\n",
    "    random_state=randomstate,\n",
    "    verbose=1,\n",
    "    n_param_search=100,\n",
    "    n_probe_features=70,\n",
    "    n_jobs=8,\n",
    ")\n",
    "print(model)\n",
    "data = genLupiData(\n",
    "    problem,\n",
    "    n_strel=1,\n",
    "    n_weakrel_groups=n_weak,\n",
    "    n_samples=n_samples,\n",
    "    n_irrel=0,\n",
    "    noise=0.1,\n",
    "    n_repeated=0,\n",
    "    random_state=randomstate,\n",
    ")"
   ]
  },
  {
   "cell_type": "code",
   "execution_count": 24,
   "outputs": [
    {
     "name": "stdout",
     "text": [
      "Fitting 3 folds for each of 100 candidates, totalling 300 fits\n",
      "******************** Best found baseline model ********************\nLUPI_Classification_SVM(C=0.0008226109832691231,\n                        scaling_lupi_w=3.5704197485991824)\nscore:  0.3211428571428571\n'loss: 5353.714388756187'\n'w_l1: 27.53509845068108'\n'w_priv_l1: 14.810965343608787'\n'w: shape (1,)'\n'w_priv: shape (1,)'\n'b: shape ()'\n'b_priv: shape ()'\n'lupi_features: 1'\n******************************\n",
      "FS threshold: 0-0, Mean:0, Std:0, n_probes 0\nFS threshold: 0-0, Mean:0, Std:0, n_probes 0\nFS threshold: -1.773420488293267-1.9178047949490051, Mean:0.07219215332786899, Std:0.02260743743093049, n_probes 3\nFS threshold: -61.554399442727146-61.88159228951288, Mean:0.16359642339286512, Std:0.015831281543857753, n_probes 2\n[[0.99861238 1.        ]\n [0.90909091 0.90999998]]\n############## Relevance bounds ##############\nfeature: [LB -- UB], relevance class\n      0: [1.0 -- 1.0], Strong relevant\n########## LUPI Relevance bounds\n      1: [0.9 -- 0.9], Irrelevant\n\n"
     ],
     "output_type": "stream"
    },
    {
     "name": "stderr",
     "text": [
      "[Parallel(n_jobs=8)]: Using backend LokyBackend with 8 concurrent workers.\n",
      "[Parallel(n_jobs=8)]: Done 300 out of 300 | elapsed:    1.1s finished\n[Parallel(n_jobs=8)]: Using backend LokyBackend with 8 concurrent workers.\n[Parallel(n_jobs=8)]: Done   3 out of   3 | elapsed:    0.1s finished\n[Parallel(n_jobs=8)]: Using backend LokyBackend with 8 concurrent workers.\n",
      "[Parallel(n_jobs=8)]: Done 140 out of 140 | elapsed:    2.1s finished\n[Parallel(n_jobs=8)]: Using backend LokyBackend with 8 concurrent workers.\n",
      "[Parallel(n_jobs=8)]: Done  70 out of  70 | elapsed:    1.2s finished\n[Parallel(n_jobs=8)]: Using backend LokyBackend with 8 concurrent workers.\n[Parallel(n_jobs=8)]: Done   3 out of   3 | elapsed:    0.1s finished\n[Parallel(n_jobs=8)]: Using backend LokyBackend with 8 concurrent workers.\n",
      "[Parallel(n_jobs=8)]: Done 140 out of 140 | elapsed:    2.1s finished\n[Parallel(n_jobs=8)]: Using backend LokyBackend with 8 concurrent workers.\n",
      "[Parallel(n_jobs=8)]: Done  70 out of  70 | elapsed:    1.1s finished\nINFO:root:All probes were infeasible. All features considered relevant.\n",
      "INFO:root:All probes were infeasible. All features considered relevant.\n"
     ],
     "output_type": "stream"
    }
   ],
   "source": [
    "X, X_priv, y = data\n",
    "\n",
    "n_priv_features = X_priv.shape[1]\n",
    "X = StandardScaler().fit(X).transform(X)\n",
    "X_priv = StandardScaler().fit(X_priv).transform(X_priv)\n",
    "combined = np.hstack([X, X_priv])\n",
    "\n",
    "model.fit(combined, y, lupi_features=n_priv_features)\n",
    "\n",
    "# Check the interval output\n",
    "interval = model.interval_\n",
    "print(interval)\n",
    "print(model.print_interval_with_class())"
   ],
   "metadata": {
    "collapsed": false,
    "pycharm": {
     "name": "#%%\n",
     "is_executing": false
    }
   }
  },
  {
   "cell_type": "code",
   "execution_count": null,
   "outputs": [],
   "source": [
    "\n"
   ],
   "metadata": {
    "collapsed": false,
    "pycharm": {
     "name": "#%%\n"
    }
   }
  }
 ],
 "metadata": {
  "language_info": {
   "codemirror_mode": {
    "name": "ipython",
    "version": 2
   },
   "file_extension": ".py",
   "mimetype": "text/x-python",
   "name": "python",
   "nbconvert_exporter": "python",
   "pygments_lexer": "ipython2",
   "version": "2.7.6"
  },
  "kernelspec": {
   "name": "python3",
   "language": "python",
   "display_name": "Python 3"
  },
  "pycharm": {
   "stem_cell": {
    "cell_type": "raw",
    "source": [],
    "metadata": {
     "collapsed": false
    }
   }
  }
 },
 "nbformat": 4,
 "nbformat_minor": 0
}